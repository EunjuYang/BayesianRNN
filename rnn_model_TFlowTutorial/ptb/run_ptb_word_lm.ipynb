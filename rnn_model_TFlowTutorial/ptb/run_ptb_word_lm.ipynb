{
 "cells": [
  {
   "cell_type": "code",
   "execution_count": 1,
   "metadata": {
    "collapsed": true
   },
   "outputs": [],
   "source": [
    "from __future__ import absolute_import\n",
    "from __future__ import division\n",
    "from __future__ import print_function\n",
    "\n",
    "import time\n",
    "import sys\n",
    "import numpy as np\n",
    "import tensorflow as tf\n",
    "import reader\n",
    "import util\n",
    "import ptb_word_lm_tb\n",
    "\n",
    "from tensorflow.python.client import device_lib"
   ]
  },
  {
   "cell_type": "code",
   "execution_count": 2,
   "metadata": {
    "scrolled": false
   },
   "outputs": [
    {
     "name": "stdout",
     "output_type": "stream",
     "text": [
      "cell_output: Tensor(\"Train/Model/RNN/RNN/multi_rnn_cell/cell_0/cell_0/basic_lstm_cell/mul_2:0\", shape=(10, 2), dtype=float32)\n",
      "cell_output: Tensor(\"Train/Model/RNN/RNN/multi_rnn_cell/cell_0/cell_0/basic_lstm_cell/mul_5:0\", shape=(10, 2), dtype=float32)\n",
      "cell_output: Tensor(\"Train/Model/RNN/RNN/multi_rnn_cell/cell_0/cell_0/basic_lstm_cell/mul_8:0\", shape=(10, 2), dtype=float32)\n",
      "cell_output: Tensor(\"Train/Model/RNN/RNN/multi_rnn_cell/cell_0/cell_0/basic_lstm_cell/mul_11:0\", shape=(10, 2), dtype=float32)\n",
      "cell_output: Tensor(\"Train/Model/RNN/RNN/multi_rnn_cell/cell_0/cell_0/basic_lstm_cell/mul_14:0\", shape=(10, 2), dtype=float32)\n",
      "output before: Tensor(\"Train/Model/concat:0\", shape=(10, 10), dtype=float32)\n",
      "output after: Tensor(\"Train/Model/Reshape:0\", shape=(50, 2), dtype=float32)\n",
      "cell_output: Tensor(\"Valid/Model/RNN/RNN/multi_rnn_cell/cell_0/cell_0/basic_lstm_cell/mul_2:0\", shape=(10, 2), dtype=float32)\n",
      "cell_output: Tensor(\"Valid/Model/RNN/RNN/multi_rnn_cell/cell_0/cell_0/basic_lstm_cell/mul_5:0\", shape=(10, 2), dtype=float32)\n",
      "cell_output: Tensor(\"Valid/Model/RNN/RNN/multi_rnn_cell/cell_0/cell_0/basic_lstm_cell/mul_8:0\", shape=(10, 2), dtype=float32)\n",
      "cell_output: Tensor(\"Valid/Model/RNN/RNN/multi_rnn_cell/cell_0/cell_0/basic_lstm_cell/mul_11:0\", shape=(10, 2), dtype=float32)\n",
      "cell_output: Tensor(\"Valid/Model/RNN/RNN/multi_rnn_cell/cell_0/cell_0/basic_lstm_cell/mul_14:0\", shape=(10, 2), dtype=float32)\n",
      "output before: Tensor(\"Valid/Model/concat:0\", shape=(10, 10), dtype=float32)\n",
      "output after: Tensor(\"Valid/Model/Reshape:0\", shape=(50, 2), dtype=float32)\n",
      "cell_output: Tensor(\"Test/Model/RNN/RNN/multi_rnn_cell/cell_0/cell_0/basic_lstm_cell/mul_2:0\", shape=(1, 2), dtype=float32)\n",
      "output before: Tensor(\"Test/Model/concat:0\", shape=(1, 2), dtype=float32)\n",
      "output after: Tensor(\"Test/Model/Reshape:0\", shape=(1, 2), dtype=float32)\n",
      "INFO:tensorflow:Restoring parameters from tensorboard/-74364\n",
      "INFO:tensorflow:Starting standard services.\n",
      "INFO:tensorflow:Saving checkpoint to path tensorboard/model.ckpt\n",
      "INFO:tensorflow:Starting queue runners.\n",
      "INFO:tensorflow:Model/global_step/sec: 0\n",
      "Epoch: 1 Learning rate: 1.000\n",
      "INFO:tensorflow:Recording summary at step 74364.\n",
      "0.001 perplexity: 562.861 speed: 1519 wps\n",
      "0.101 perplexity: 429.338 speed: 7158 wps\n",
      "0.201 perplexity: 429.665 speed: 7411 wps\n",
      "0.301 perplexity: 430.408 speed: 7438 wps\n",
      "0.401 perplexity: 431.772 speed: 7465 wps\n",
      "0.501 perplexity: 428.925 speed: 7529 wps\n",
      "0.601 perplexity: 427.886 speed: 7567 wps\n",
      "0.701 perplexity: 429.250 speed: 7597 wps\n",
      "0.800 perplexity: 428.479 speed: 7621 wps\n",
      "0.900 perplexity: 427.020 speed: 7630 wps\n",
      "INFO:tensorflow:Recording summary at step 92695.\n",
      "INFO:tensorflow:Model/global_step/sec: 152.754\n",
      "Epoch: 1 Train Perplexity: 426.075\n",
      "Epoch: 1 Valid Perplexity: 456.189\n",
      "Test Perplexity: 423.576\n",
      "Saving model to tensorboard/.\n"
     ]
    }
   ],
   "source": [
    "ptb_word_lm_tb.main(_)"
   ]
  },
  {
   "cell_type": "code",
   "execution_count": null,
   "metadata": {
    "collapsed": true
   },
   "outputs": [],
   "source": []
  }
 ],
 "metadata": {
  "anaconda-cloud": {},
  "kernelspec": {
   "display_name": "Python 3",
   "language": "python",
   "name": "python3"
  },
  "language_info": {
   "codemirror_mode": {
    "name": "ipython",
    "version": 3
   },
   "file_extension": ".py",
   "mimetype": "text/x-python",
   "name": "python",
   "nbconvert_exporter": "python",
   "pygments_lexer": "ipython3",
   "version": "3.6.1"
  }
 },
 "nbformat": 4,
 "nbformat_minor": 2
}
