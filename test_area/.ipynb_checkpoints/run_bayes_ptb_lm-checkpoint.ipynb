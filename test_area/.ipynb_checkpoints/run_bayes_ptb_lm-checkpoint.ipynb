{
 "cells": [
  {
   "cell_type": "code",
   "execution_count": 1,
   "metadata": {
    "scrolled": false
   },
   "outputs": [
    {
     "name": "stdout",
     "output_type": "stream",
     "text": [
      "INFO:tensorflow:Starting standard services.\n",
      "INFO:tensorflow:Saving checkpoint to path tensorboard/model.ckpt\n",
      "INFO:tensorflow:Starting queue runners.\n",
      "INFO:tensorflow:Model/global_step/sec: 0\n",
      "Epoch: 1 Learning rate: 1.000\n",
      "INFO:tensorflow:Recording summary at step 0.\n",
      "0.001 perplexity: 10026.865 speed: 3108 wps\n",
      "0.101 perplexity: 12490.930 speed: 6729 wps\n",
      "0.201 perplexity: 14434.928 speed: 7023 wps\n",
      "0.301 perplexity: 15186.845 speed: 7197 wps\n",
      "0.401 perplexity: 15512.908 speed: 7295 wps\n",
      "0.501 perplexity: 15714.880 speed: 7363 wps\n",
      "0.601 perplexity: 15866.719 speed: 7375 wps\n",
      "0.701 perplexity: 15965.692 speed: 7392 wps\n",
      "0.801 perplexity: 16037.317 speed: 7400 wps\n",
      "0.901 perplexity: 16092.634 speed: 7406 wps\n",
      "INFO:tensorflow:Model/global_step/sec: 74.06\n",
      "INFO:tensorflow:Recording summary at step 8886.\n",
      "Epoch: 1 Train Perplexity: 16150.048\n",
      "Epoch: 1 Valid Perplexity: 9498.221\n",
      "Test Perplexity: 9480.480\n",
      "Saving model to tensorboard/.\n"
     ]
    }
   ],
   "source": [
    "import ptb_word_lm_tb_BAYES as model\n",
    "model.main(_)"
   ]
  },
  {
   "cell_type": "code",
   "execution_count": null,
   "metadata": {
    "collapsed": true
   },
   "outputs": [],
   "source": []
  }
 ],
 "metadata": {
  "kernelspec": {
   "display_name": "Python 3",
   "language": "python",
   "name": "python3"
  },
  "language_info": {
   "codemirror_mode": {
    "name": "ipython",
    "version": 3
   },
   "file_extension": ".py",
   "mimetype": "text/x-python",
   "name": "python",
   "nbconvert_exporter": "python",
   "pygments_lexer": "ipython3",
   "version": "3.6.1"
  }
 },
 "nbformat": 4,
 "nbformat_minor": 2
}
