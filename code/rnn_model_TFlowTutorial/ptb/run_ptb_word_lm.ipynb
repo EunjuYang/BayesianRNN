{
 "cells": [
  {
   "cell_type": "code",
   "execution_count": 1,
   "metadata": {},
   "outputs": [
    {
     "name": "stdout",
     "output_type": "stream",
     "text": [
      "Batch Size:  10\n",
      "cost is: Tensor(\"Train/Model/Sum:0\", shape=(), dtype=float32)\n",
      "Batch Size:  10\n",
      "Batch Size:  1\n",
      "INFO:tensorflow:Starting standard services.\n",
      "INFO:tensorflow:Saving checkpoint to path tensorboard/model.ckpt\n",
      "INFO:tensorflow:Starting queue runners.\n",
      "INFO:tensorflow:Model/global_step/sec: 0\n",
      "Epoch: 1 Learning rate: 1.000\n",
      "INFO:tensorflow:Recording summary at step 0.\n",
      "0.001 perplexity: 7508.916 speed: 1781 wps\n",
      "0.101 perplexity: 799.134 speed: 6953 wps\n",
      "0.201 perplexity: 753.205 speed: 7022 wps\n",
      "0.301 perplexity: 713.929 speed: 7049 wps\n",
      "0.401 perplexity: 666.257 speed: 7048 wps\n",
      "0.501 perplexity: 627.103 speed: 7088 wps\n",
      "0.601 perplexity: 601.088 speed: 7061 wps\n",
      "0.701 perplexity: 583.794 speed: 7086 wps\n",
      "0.800 perplexity: 567.866 speed: 7129 wps\n",
      "0.900 perplexity: 553.933 speed: 7161 wps\n",
      "INFO:tensorflow:Recording summary at step 17208.\n",
      "INFO:tensorflow:Model/global_step/sec: 143.385\n",
      "Epoch: 1 Train Perplexity: 543.480\n",
      "Epoch: 1 Valid Perplexity: 481.649\n",
      "Test Perplexity: 451.180\n",
      "Saving model to tensorboard/.\n"
     ]
    }
   ],
   "source": [
    "import ptb_word_lm_tb\n",
    "ptb_word_lm_tb.main(_)"
   ]
  },
  {
   "cell_type": "code",
   "execution_count": null,
   "metadata": {
    "collapsed": true
   },
   "outputs": [],
   "source": []
  }
 ],
 "metadata": {
  "anaconda-cloud": {},
  "kernelspec": {
   "display_name": "Python 3",
   "language": "python",
   "name": "python3"
  },
  "language_info": {
   "codemirror_mode": {
    "name": "ipython",
    "version": 3
   },
   "file_extension": ".py",
   "mimetype": "text/x-python",
   "name": "python",
   "nbconvert_exporter": "python",
   "pygments_lexer": "ipython3",
   "version": "3.6.1"
  }
 },
 "nbformat": 4,
 "nbformat_minor": 2
}
